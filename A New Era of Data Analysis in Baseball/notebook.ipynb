{
 "cells": [
  {
   "cell_type": "markdown",
   "metadata": {
    "dc": {
     "key": "4"
    },
    "deletable": false,
    "editable": false,
    "run_control": {
     "frozen": true
    },
    "tags": [
     "context"
    ]
   },
   "source": [
    "## 1. The Statcast revolution\n",
    "<p><img style=\"float: left;margin:5px 20px 5px 1px\" src=\"https://s3.amazonaws.com/assets.datacamp.com/production/project_250/img/judge_wide.jpg\"></p>\n",
    "<p>This is Aaron Judge. Judge is one of the physically largest players in Major League Baseball standing 6 feet 7 inches (2.01 m) tall and weighing 282 pounds (128 kg). He also hit the <a href=\"https://www.mlb.com/news/aaron-judge-sets-statcast-exit-velocity-record/c-235640846\">hardest home run</a> ever recorded. How do we know this? <strong>Statcast</strong>.</p>\n",
    "<p>Statcast is a state-of-the-art tracking system that uses high-resolution cameras and radar equipment to measure the precise location and movement of baseballs and baseball players. Introduced in 2015 to all 30 major league ballparks, Statcast data is revolutionizing the game. Teams are engaging in an \"arms race\" of data analysis, hiring analysts left and right in an attempt to gain an edge over their competition. This <a href=\"https://www.youtube.com/watch?v=9rOKGKhQe8U\">video</a> describing the system is incredible.</p>\n",
    "<p><strong>In this notebook</strong>, we're going to wrangle, analyze, and visualize Statcast data to compare Mr. Judge and another (extremely large) teammate of his. Let's start by loading the data into our Notebook. There are two CSV files, <code>judge.csv</code> and <code>stanton.csv</code>, both of which contain Statcast data for 2015-2017. We'll use pandas DataFrames to store this data. Let's also load our data visualization libraries, matplotlib and seaborn.</p>"
   ]
  },
  {
   "cell_type": "code",
   "execution_count": 22,
   "metadata": {
    "dc": {
     "key": "4"
    },
    "tags": [
     "sample_code"
    ]
   },
   "outputs": [],
   "source": [
    "import pandas as pd\n",
    "import matplotlib.pyplot as plt\n",
    "import seaborn as sns\n",
    "%matplotlib inline\n",
    "\n",
    "#setting the default figure size to large\n",
    "plt.rcParams['figure.figsize'] = [15, 10]\n",
    "\n",
    "# Load Aaron Judge's Statcast data\n",
    "judge = pd.read_csv('datasets/judge.csv')\n",
    "\n",
    "# Load Giancarlo Stanton's Statcast data\n",
    "stanton = pd.read_csv('datasets/stanton.csv')"
   ]
  },
  {
   "cell_type": "markdown",
   "metadata": {
    "dc": {
     "key": "11"
    },
    "deletable": false,
    "editable": false,
    "run_control": {
     "frozen": true
    },
    "tags": [
     "context"
    ]
   },
   "source": [
    "## 2. What can Statcast measure?\n",
    "<p>The better question might be, what can't Statcast measure?</p>\n",
    "<blockquote>\n",
    "  <p>Starting with the pitcher, Statcast can measure simple data points such as velocity. At the same time, Statcast digs a whole lot deeper, also measuring the release point and spin rate of every pitch.</p>\n",
    "  <p>Moving on to hitters, Statcast is capable of measuring the exit velocity, launch angle and vector of the ball as it comes off the bat. From there, Statcast can also track the hang time and projected distance that a ball travels.</p>\n",
    "</blockquote>\n",
    "<p>Let's inspect the last five rows of the <code>judge</code> DataFrame. You'll see that each row represents one pitch thrown to a batter. You'll also see that some columns have esoteric names. If these don't make sense now, don't worry. The relevant ones will be explained as necessary.</p>"
   ]
  },
  {
   "cell_type": "code",
   "execution_count": 23,
   "metadata": {
    "dc": {
     "key": "11"
    },
    "tags": [
     "sample_code"
    ]
   },
   "outputs": [
    {
     "data": {
      "text/html": [
       "<div>\n",
       "<style scoped>\n",
       "    .dataframe tbody tr th:only-of-type {\n",
       "        vertical-align: middle;\n",
       "    }\n",
       "\n",
       "    .dataframe tbody tr th {\n",
       "        vertical-align: top;\n",
       "    }\n",
       "\n",
       "    .dataframe thead th {\n",
       "        text-align: right;\n",
       "    }\n",
       "</style>\n",
       "<table border=\"1\" class=\"dataframe\">\n",
       "  <thead>\n",
       "    <tr style=\"text-align: right;\">\n",
       "      <th></th>\n",
       "      <th>pitch_type</th>\n",
       "      <th>game_date</th>\n",
       "      <th>release_speed</th>\n",
       "      <th>release_pos_x</th>\n",
       "      <th>release_pos_z</th>\n",
       "      <th>player_name</th>\n",
       "      <th>batter</th>\n",
       "      <th>pitcher</th>\n",
       "      <th>events</th>\n",
       "      <th>description</th>\n",
       "      <th>spin_dir</th>\n",
       "      <th>spin_rate_deprecated</th>\n",
       "      <th>break_angle_deprecated</th>\n",
       "      <th>break_length_deprecated</th>\n",
       "      <th>zone</th>\n",
       "      <th>des</th>\n",
       "      <th>game_type</th>\n",
       "      <th>stand</th>\n",
       "      <th>p_throws</th>\n",
       "      <th>home_team</th>\n",
       "      <th>away_team</th>\n",
       "      <th>type</th>\n",
       "      <th>hit_location</th>\n",
       "      <th>bb_type</th>\n",
       "      <th>balls</th>\n",
       "      <th>strikes</th>\n",
       "      <th>game_year</th>\n",
       "      <th>pfx_x</th>\n",
       "      <th>pfx_z</th>\n",
       "      <th>plate_x</th>\n",
       "      <th>plate_z</th>\n",
       "      <th>on_3b</th>\n",
       "      <th>on_2b</th>\n",
       "      <th>on_1b</th>\n",
       "      <th>outs_when_up</th>\n",
       "      <th>inning</th>\n",
       "      <th>inning_topbot</th>\n",
       "      <th>hc_x</th>\n",
       "      <th>hc_y</th>\n",
       "      <th>tfs_deprecated</th>\n",
       "      <th>tfs_zulu_deprecated</th>\n",
       "      <th>pos2_person_id</th>\n",
       "      <th>umpire</th>\n",
       "      <th>sv_id</th>\n",
       "      <th>vx0</th>\n",
       "      <th>vy0</th>\n",
       "      <th>vz0</th>\n",
       "      <th>ax</th>\n",
       "      <th>ay</th>\n",
       "      <th>az</th>\n",
       "      <th>sz_top</th>\n",
       "      <th>sz_bot</th>\n",
       "      <th>hit_distance_sc</th>\n",
       "      <th>launch_speed</th>\n",
       "      <th>launch_angle</th>\n",
       "      <th>effective_speed</th>\n",
       "      <th>release_spin_rate</th>\n",
       "      <th>release_extension</th>\n",
       "      <th>game_pk</th>\n",
       "      <th>pos1_person_id</th>\n",
       "      <th>pos2_person_id.1</th>\n",
       "      <th>pos3_person_id</th>\n",
       "      <th>pos4_person_id</th>\n",
       "      <th>pos5_person_id</th>\n",
       "      <th>pos6_person_id</th>\n",
       "      <th>pos7_person_id</th>\n",
       "      <th>pos8_person_id</th>\n",
       "      <th>pos9_person_id</th>\n",
       "      <th>release_pos_y</th>\n",
       "      <th>estimated_ba_using_speedangle</th>\n",
       "      <th>estimated_woba_using_speedangle</th>\n",
       "      <th>woba_value</th>\n",
       "      <th>woba_denom</th>\n",
       "      <th>babip_value</th>\n",
       "      <th>iso_value</th>\n",
       "      <th>launch_speed_angle</th>\n",
       "      <th>at_bat_number</th>\n",
       "      <th>pitch_number</th>\n",
       "    </tr>\n",
       "  </thead>\n",
       "  <tbody>\n",
       "    <tr>\n",
       "      <th>0</th>\n",
       "      <td>FF</td>\n",
       "      <td>2017-09-30</td>\n",
       "      <td>95.7</td>\n",
       "      <td>-2.3581</td>\n",
       "      <td>5.9240</td>\n",
       "      <td>Aaron Judge</td>\n",
       "      <td>592450</td>\n",
       "      <td>608678</td>\n",
       "      <td>strikeout</td>\n",
       "      <td>swinging_strike</td>\n",
       "      <td>NaN</td>\n",
       "      <td>NaN</td>\n",
       "      <td>NaN</td>\n",
       "      <td>NaN</td>\n",
       "      <td>14.0</td>\n",
       "      <td>Aaron Judge strikes out swinging.</td>\n",
       "      <td>R</td>\n",
       "      <td>R</td>\n",
       "      <td>R</td>\n",
       "      <td>NYY</td>\n",
       "      <td>TOR</td>\n",
       "      <td>S</td>\n",
       "      <td>NaN</td>\n",
       "      <td>NaN</td>\n",
       "      <td>0</td>\n",
       "      <td>2</td>\n",
       "      <td>2017</td>\n",
       "      <td>-0.7350</td>\n",
       "      <td>1.6774</td>\n",
       "      <td>1.0150</td>\n",
       "      <td>2.5730</td>\n",
       "      <td>NaN</td>\n",
       "      <td>543305.0</td>\n",
       "      <td>NaN</td>\n",
       "      <td>1</td>\n",
       "      <td>7</td>\n",
       "      <td>Bot</td>\n",
       "      <td>NaN</td>\n",
       "      <td>NaN</td>\n",
       "      <td>NaN</td>\n",
       "      <td>NaN</td>\n",
       "      <td>431145.0</td>\n",
       "      <td>NaN</td>\n",
       "      <td>170930_192117</td>\n",
       "      <td>10.5318</td>\n",
       "      <td>-138.4377</td>\n",
       "      <td>-6.8732</td>\n",
       "      <td>-12.0431</td>\n",
       "      <td>34.6021</td>\n",
       "      <td>-9.2112</td>\n",
       "      <td>3.8271</td>\n",
       "      <td>1.6673</td>\n",
       "      <td>NaN</td>\n",
       "      <td>NaN</td>\n",
       "      <td>NaN</td>\n",
       "      <td>95.025</td>\n",
       "      <td>2270.0</td>\n",
       "      <td>6.485</td>\n",
       "      <td>492513</td>\n",
       "      <td>608678.0</td>\n",
       "      <td>431145.0</td>\n",
       "      <td>475253.0</td>\n",
       "      <td>446381.0</td>\n",
       "      <td>518626.0</td>\n",
       "      <td>572365.0</td>\n",
       "      <td>485567.0</td>\n",
       "      <td>606192.0</td>\n",
       "      <td>430832.0</td>\n",
       "      <td>54.0129</td>\n",
       "      <td>0.0</td>\n",
       "      <td>0.0</td>\n",
       "      <td>0.0</td>\n",
       "      <td>1.0</td>\n",
       "      <td>0.0</td>\n",
       "      <td>0.0</td>\n",
       "      <td>NaN</td>\n",
       "      <td>53</td>\n",
       "      <td>3</td>\n",
       "    </tr>\n",
       "    <tr>\n",
       "      <th>1</th>\n",
       "      <td>FF</td>\n",
       "      <td>2017-09-30</td>\n",
       "      <td>96.3</td>\n",
       "      <td>-2.5577</td>\n",
       "      <td>5.9023</td>\n",
       "      <td>Aaron Judge</td>\n",
       "      <td>592450</td>\n",
       "      <td>608678</td>\n",
       "      <td>NaN</td>\n",
       "      <td>called_strike</td>\n",
       "      <td>NaN</td>\n",
       "      <td>NaN</td>\n",
       "      <td>NaN</td>\n",
       "      <td>NaN</td>\n",
       "      <td>9.0</td>\n",
       "      <td>NaN</td>\n",
       "      <td>R</td>\n",
       "      <td>R</td>\n",
       "      <td>R</td>\n",
       "      <td>NYY</td>\n",
       "      <td>TOR</td>\n",
       "      <td>S</td>\n",
       "      <td>NaN</td>\n",
       "      <td>NaN</td>\n",
       "      <td>0</td>\n",
       "      <td>1</td>\n",
       "      <td>2017</td>\n",
       "      <td>-0.7434</td>\n",
       "      <td>1.4761</td>\n",
       "      <td>0.4546</td>\n",
       "      <td>2.3005</td>\n",
       "      <td>NaN</td>\n",
       "      <td>543305.0</td>\n",
       "      <td>NaN</td>\n",
       "      <td>1</td>\n",
       "      <td>7</td>\n",
       "      <td>Bot</td>\n",
       "      <td>NaN</td>\n",
       "      <td>NaN</td>\n",
       "      <td>NaN</td>\n",
       "      <td>NaN</td>\n",
       "      <td>431145.0</td>\n",
       "      <td>NaN</td>\n",
       "      <td>170930_192050</td>\n",
       "      <td>9.6649</td>\n",
       "      <td>-139.7614</td>\n",
       "      <td>-7.3651</td>\n",
       "      <td>-11.7176</td>\n",
       "      <td>26.7988</td>\n",
       "      <td>-11.3563</td>\n",
       "      <td>3.9923</td>\n",
       "      <td>1.8663</td>\n",
       "      <td>NaN</td>\n",
       "      <td>NaN</td>\n",
       "      <td>NaN</td>\n",
       "      <td>96.812</td>\n",
       "      <td>2252.0</td>\n",
       "      <td>6.386</td>\n",
       "      <td>492513</td>\n",
       "      <td>608678.0</td>\n",
       "      <td>431145.0</td>\n",
       "      <td>475253.0</td>\n",
       "      <td>446381.0</td>\n",
       "      <td>518626.0</td>\n",
       "      <td>572365.0</td>\n",
       "      <td>485567.0</td>\n",
       "      <td>606192.0</td>\n",
       "      <td>430832.0</td>\n",
       "      <td>54.1114</td>\n",
       "      <td>0.0</td>\n",
       "      <td>0.0</td>\n",
       "      <td>NaN</td>\n",
       "      <td>NaN</td>\n",
       "      <td>NaN</td>\n",
       "      <td>NaN</td>\n",
       "      <td>NaN</td>\n",
       "      <td>53</td>\n",
       "      <td>2</td>\n",
       "    </tr>\n",
       "    <tr>\n",
       "      <th>2</th>\n",
       "      <td>FF</td>\n",
       "      <td>2017-09-30</td>\n",
       "      <td>95.2</td>\n",
       "      <td>-2.3861</td>\n",
       "      <td>5.8346</td>\n",
       "      <td>Aaron Judge</td>\n",
       "      <td>592450</td>\n",
       "      <td>608678</td>\n",
       "      <td>NaN</td>\n",
       "      <td>called_strike</td>\n",
       "      <td>NaN</td>\n",
       "      <td>NaN</td>\n",
       "      <td>NaN</td>\n",
       "      <td>NaN</td>\n",
       "      <td>2.0</td>\n",
       "      <td>NaN</td>\n",
       "      <td>R</td>\n",
       "      <td>R</td>\n",
       "      <td>R</td>\n",
       "      <td>NYY</td>\n",
       "      <td>TOR</td>\n",
       "      <td>S</td>\n",
       "      <td>NaN</td>\n",
       "      <td>NaN</td>\n",
       "      <td>0</td>\n",
       "      <td>0</td>\n",
       "      <td>2017</td>\n",
       "      <td>-1.2191</td>\n",
       "      <td>1.6332</td>\n",
       "      <td>0.0957</td>\n",
       "      <td>3.4049</td>\n",
       "      <td>NaN</td>\n",
       "      <td>543305.0</td>\n",
       "      <td>NaN</td>\n",
       "      <td>1</td>\n",
       "      <td>7</td>\n",
       "      <td>Bot</td>\n",
       "      <td>NaN</td>\n",
       "      <td>NaN</td>\n",
       "      <td>NaN</td>\n",
       "      <td>NaN</td>\n",
       "      <td>431145.0</td>\n",
       "      <td>NaN</td>\n",
       "      <td>170930_192030</td>\n",
       "      <td>9.2416</td>\n",
       "      <td>-138.0840</td>\n",
       "      <td>-4.3968</td>\n",
       "      <td>-17.6628</td>\n",
       "      <td>28.7817</td>\n",
       "      <td>-10.3700</td>\n",
       "      <td>4.0395</td>\n",
       "      <td>1.8899</td>\n",
       "      <td>NaN</td>\n",
       "      <td>NaN</td>\n",
       "      <td>NaN</td>\n",
       "      <td>95.468</td>\n",
       "      <td>2291.0</td>\n",
       "      <td>6.469</td>\n",
       "      <td>492513</td>\n",
       "      <td>608678.0</td>\n",
       "      <td>431145.0</td>\n",
       "      <td>475253.0</td>\n",
       "      <td>446381.0</td>\n",
       "      <td>518626.0</td>\n",
       "      <td>572365.0</td>\n",
       "      <td>485567.0</td>\n",
       "      <td>606192.0</td>\n",
       "      <td>430832.0</td>\n",
       "      <td>54.0285</td>\n",
       "      <td>0.0</td>\n",
       "      <td>0.0</td>\n",
       "      <td>NaN</td>\n",
       "      <td>NaN</td>\n",
       "      <td>NaN</td>\n",
       "      <td>NaN</td>\n",
       "      <td>NaN</td>\n",
       "      <td>53</td>\n",
       "      <td>1</td>\n",
       "    </tr>\n",
       "    <tr>\n",
       "      <th>3</th>\n",
       "      <td>FT</td>\n",
       "      <td>2017-09-30</td>\n",
       "      <td>93.4</td>\n",
       "      <td>4.2502</td>\n",
       "      <td>4.6506</td>\n",
       "      <td>Aaron Judge</td>\n",
       "      <td>592450</td>\n",
       "      <td>571901</td>\n",
       "      <td>walk</td>\n",
       "      <td>ball</td>\n",
       "      <td>NaN</td>\n",
       "      <td>NaN</td>\n",
       "      <td>NaN</td>\n",
       "      <td>NaN</td>\n",
       "      <td>14.0</td>\n",
       "      <td>Aaron Judge walks.   Aaron Hicks to 2nd.</td>\n",
       "      <td>R</td>\n",
       "      <td>R</td>\n",
       "      <td>L</td>\n",
       "      <td>NYY</td>\n",
       "      <td>TOR</td>\n",
       "      <td>B</td>\n",
       "      <td>NaN</td>\n",
       "      <td>NaN</td>\n",
       "      <td>3</td>\n",
       "      <td>1</td>\n",
       "      <td>2017</td>\n",
       "      <td>1.7552</td>\n",
       "      <td>0.4911</td>\n",
       "      <td>1.5161</td>\n",
       "      <td>2.8389</td>\n",
       "      <td>NaN</td>\n",
       "      <td>NaN</td>\n",
       "      <td>543305.0</td>\n",
       "      <td>1</td>\n",
       "      <td>5</td>\n",
       "      <td>Bot</td>\n",
       "      <td>NaN</td>\n",
       "      <td>NaN</td>\n",
       "      <td>NaN</td>\n",
       "      <td>NaN</td>\n",
       "      <td>431145.0</td>\n",
       "      <td>NaN</td>\n",
       "      <td>170930_183328</td>\n",
       "      <td>-10.6258</td>\n",
       "      <td>-135.1424</td>\n",
       "      <td>0.1093</td>\n",
       "      <td>23.4366</td>\n",
       "      <td>30.9796</td>\n",
       "      <td>-26.5796</td>\n",
       "      <td>4.0732</td>\n",
       "      <td>2.0215</td>\n",
       "      <td>NaN</td>\n",
       "      <td>NaN</td>\n",
       "      <td>NaN</td>\n",
       "      <td>91.825</td>\n",
       "      <td>2175.0</td>\n",
       "      <td>5.767</td>\n",
       "      <td>492513</td>\n",
       "      <td>571901.0</td>\n",
       "      <td>431145.0</td>\n",
       "      <td>475253.0</td>\n",
       "      <td>446381.0</td>\n",
       "      <td>518626.0</td>\n",
       "      <td>572365.0</td>\n",
       "      <td>485567.0</td>\n",
       "      <td>606192.0</td>\n",
       "      <td>430832.0</td>\n",
       "      <td>54.7309</td>\n",
       "      <td>0.0</td>\n",
       "      <td>0.0</td>\n",
       "      <td>0.7</td>\n",
       "      <td>1.0</td>\n",
       "      <td>0.0</td>\n",
       "      <td>0.0</td>\n",
       "      <td>NaN</td>\n",
       "      <td>36</td>\n",
       "      <td>5</td>\n",
       "    </tr>\n",
       "    <tr>\n",
       "      <th>4</th>\n",
       "      <td>FT</td>\n",
       "      <td>2017-09-30</td>\n",
       "      <td>92.8</td>\n",
       "      <td>4.1144</td>\n",
       "      <td>4.4696</td>\n",
       "      <td>Aaron Judge</td>\n",
       "      <td>592450</td>\n",
       "      <td>571901</td>\n",
       "      <td>NaN</td>\n",
       "      <td>called_strike</td>\n",
       "      <td>NaN</td>\n",
       "      <td>NaN</td>\n",
       "      <td>NaN</td>\n",
       "      <td>NaN</td>\n",
       "      <td>14.0</td>\n",
       "      <td>NaN</td>\n",
       "      <td>R</td>\n",
       "      <td>R</td>\n",
       "      <td>L</td>\n",
       "      <td>NYY</td>\n",
       "      <td>TOR</td>\n",
       "      <td>S</td>\n",
       "      <td>NaN</td>\n",
       "      <td>NaN</td>\n",
       "      <td>3</td>\n",
       "      <td>0</td>\n",
       "      <td>2017</td>\n",
       "      <td>1.4123</td>\n",
       "      <td>0.1889</td>\n",
       "      <td>0.0764</td>\n",
       "      <td>1.7631</td>\n",
       "      <td>NaN</td>\n",
       "      <td>NaN</td>\n",
       "      <td>543305.0</td>\n",
       "      <td>1</td>\n",
       "      <td>5</td>\n",
       "      <td>Bot</td>\n",
       "      <td>NaN</td>\n",
       "      <td>NaN</td>\n",
       "      <td>NaN</td>\n",
       "      <td>NaN</td>\n",
       "      <td>431145.0</td>\n",
       "      <td>NaN</td>\n",
       "      <td>170930_183309</td>\n",
       "      <td>-13.1954</td>\n",
       "      <td>-134.2390</td>\n",
       "      <td>-1.4760</td>\n",
       "      <td>19.6908</td>\n",
       "      <td>28.6883</td>\n",
       "      <td>-29.8328</td>\n",
       "      <td>4.1575</td>\n",
       "      <td>2.0080</td>\n",
       "      <td>NaN</td>\n",
       "      <td>NaN</td>\n",
       "      <td>NaN</td>\n",
       "      <td>91.790</td>\n",
       "      <td>2171.0</td>\n",
       "      <td>5.975</td>\n",
       "      <td>492513</td>\n",
       "      <td>571901.0</td>\n",
       "      <td>431145.0</td>\n",
       "      <td>475253.0</td>\n",
       "      <td>446381.0</td>\n",
       "      <td>518626.0</td>\n",
       "      <td>572365.0</td>\n",
       "      <td>485567.0</td>\n",
       "      <td>606192.0</td>\n",
       "      <td>430832.0</td>\n",
       "      <td>54.5228</td>\n",
       "      <td>0.0</td>\n",
       "      <td>0.0</td>\n",
       "      <td>NaN</td>\n",
       "      <td>NaN</td>\n",
       "      <td>NaN</td>\n",
       "      <td>NaN</td>\n",
       "      <td>NaN</td>\n",
       "      <td>36</td>\n",
       "      <td>4</td>\n",
       "    </tr>\n",
       "  </tbody>\n",
       "</table>\n",
       "</div>"
      ],
      "text/plain": [
       "  pitch_type   game_date  release_speed  release_pos_x  release_pos_z  \\\n",
       "0         FF  2017-09-30           95.7        -2.3581         5.9240   \n",
       "1         FF  2017-09-30           96.3        -2.5577         5.9023   \n",
       "2         FF  2017-09-30           95.2        -2.3861         5.8346   \n",
       "3         FT  2017-09-30           93.4         4.2502         4.6506   \n",
       "4         FT  2017-09-30           92.8         4.1144         4.4696   \n",
       "\n",
       "   player_name  batter  pitcher     events      description  spin_dir  \\\n",
       "0  Aaron Judge  592450   608678  strikeout  swinging_strike       NaN   \n",
       "1  Aaron Judge  592450   608678        NaN    called_strike       NaN   \n",
       "2  Aaron Judge  592450   608678        NaN    called_strike       NaN   \n",
       "3  Aaron Judge  592450   571901       walk             ball       NaN   \n",
       "4  Aaron Judge  592450   571901        NaN    called_strike       NaN   \n",
       "\n",
       "   spin_rate_deprecated  break_angle_deprecated  break_length_deprecated  \\\n",
       "0                   NaN                     NaN                      NaN   \n",
       "1                   NaN                     NaN                      NaN   \n",
       "2                   NaN                     NaN                      NaN   \n",
       "3                   NaN                     NaN                      NaN   \n",
       "4                   NaN                     NaN                      NaN   \n",
       "\n",
       "   zone                                         des game_type stand p_throws  \\\n",
       "0  14.0         Aaron Judge strikes out swinging.           R     R        R   \n",
       "1   9.0                                         NaN         R     R        R   \n",
       "2   2.0                                         NaN         R     R        R   \n",
       "3  14.0  Aaron Judge walks.   Aaron Hicks to 2nd.           R     R        L   \n",
       "4  14.0                                         NaN         R     R        L   \n",
       "\n",
       "  home_team away_team type  hit_location bb_type  balls  strikes  game_year  \\\n",
       "0       NYY       TOR    S           NaN     NaN      0        2       2017   \n",
       "1       NYY       TOR    S           NaN     NaN      0        1       2017   \n",
       "2       NYY       TOR    S           NaN     NaN      0        0       2017   \n",
       "3       NYY       TOR    B           NaN     NaN      3        1       2017   \n",
       "4       NYY       TOR    S           NaN     NaN      3        0       2017   \n",
       "\n",
       "    pfx_x   pfx_z  plate_x  plate_z  on_3b     on_2b     on_1b  outs_when_up  \\\n",
       "0 -0.7350  1.6774   1.0150   2.5730    NaN  543305.0       NaN             1   \n",
       "1 -0.7434  1.4761   0.4546   2.3005    NaN  543305.0       NaN             1   \n",
       "2 -1.2191  1.6332   0.0957   3.4049    NaN  543305.0       NaN             1   \n",
       "3  1.7552  0.4911   1.5161   2.8389    NaN       NaN  543305.0             1   \n",
       "4  1.4123  0.1889   0.0764   1.7631    NaN       NaN  543305.0             1   \n",
       "\n",
       "   inning inning_topbot  hc_x  hc_y  tfs_deprecated  tfs_zulu_deprecated  \\\n",
       "0       7           Bot   NaN   NaN             NaN                  NaN   \n",
       "1       7           Bot   NaN   NaN             NaN                  NaN   \n",
       "2       7           Bot   NaN   NaN             NaN                  NaN   \n",
       "3       5           Bot   NaN   NaN             NaN                  NaN   \n",
       "4       5           Bot   NaN   NaN             NaN                  NaN   \n",
       "\n",
       "   pos2_person_id  umpire          sv_id      vx0       vy0     vz0       ax  \\\n",
       "0        431145.0     NaN  170930_192117  10.5318 -138.4377 -6.8732 -12.0431   \n",
       "1        431145.0     NaN  170930_192050   9.6649 -139.7614 -7.3651 -11.7176   \n",
       "2        431145.0     NaN  170930_192030   9.2416 -138.0840 -4.3968 -17.6628   \n",
       "3        431145.0     NaN  170930_183328 -10.6258 -135.1424  0.1093  23.4366   \n",
       "4        431145.0     NaN  170930_183309 -13.1954 -134.2390 -1.4760  19.6908   \n",
       "\n",
       "        ay       az  sz_top  sz_bot  hit_distance_sc  launch_speed  \\\n",
       "0  34.6021  -9.2112  3.8271  1.6673              NaN           NaN   \n",
       "1  26.7988 -11.3563  3.9923  1.8663              NaN           NaN   \n",
       "2  28.7817 -10.3700  4.0395  1.8899              NaN           NaN   \n",
       "3  30.9796 -26.5796  4.0732  2.0215              NaN           NaN   \n",
       "4  28.6883 -29.8328  4.1575  2.0080              NaN           NaN   \n",
       "\n",
       "   launch_angle  effective_speed  release_spin_rate  release_extension  \\\n",
       "0           NaN           95.025             2270.0              6.485   \n",
       "1           NaN           96.812             2252.0              6.386   \n",
       "2           NaN           95.468             2291.0              6.469   \n",
       "3           NaN           91.825             2175.0              5.767   \n",
       "4           NaN           91.790             2171.0              5.975   \n",
       "\n",
       "   game_pk  pos1_person_id  pos2_person_id.1  pos3_person_id  pos4_person_id  \\\n",
       "0   492513        608678.0          431145.0        475253.0        446381.0   \n",
       "1   492513        608678.0          431145.0        475253.0        446381.0   \n",
       "2   492513        608678.0          431145.0        475253.0        446381.0   \n",
       "3   492513        571901.0          431145.0        475253.0        446381.0   \n",
       "4   492513        571901.0          431145.0        475253.0        446381.0   \n",
       "\n",
       "   pos5_person_id  pos6_person_id  pos7_person_id  pos8_person_id  \\\n",
       "0        518626.0        572365.0        485567.0        606192.0   \n",
       "1        518626.0        572365.0        485567.0        606192.0   \n",
       "2        518626.0        572365.0        485567.0        606192.0   \n",
       "3        518626.0        572365.0        485567.0        606192.0   \n",
       "4        518626.0        572365.0        485567.0        606192.0   \n",
       "\n",
       "   pos9_person_id  release_pos_y  estimated_ba_using_speedangle  \\\n",
       "0        430832.0        54.0129                            0.0   \n",
       "1        430832.0        54.1114                            0.0   \n",
       "2        430832.0        54.0285                            0.0   \n",
       "3        430832.0        54.7309                            0.0   \n",
       "4        430832.0        54.5228                            0.0   \n",
       "\n",
       "   estimated_woba_using_speedangle  woba_value  woba_denom  babip_value  \\\n",
       "0                              0.0         0.0         1.0          0.0   \n",
       "1                              0.0         NaN         NaN          NaN   \n",
       "2                              0.0         NaN         NaN          NaN   \n",
       "3                              0.0         0.7         1.0          0.0   \n",
       "4                              0.0         NaN         NaN          NaN   \n",
       "\n",
       "   iso_value  launch_speed_angle  at_bat_number  pitch_number  \n",
       "0        0.0                 NaN             53             3  \n",
       "1        NaN                 NaN             53             2  \n",
       "2        NaN                 NaN             53             1  \n",
       "3        0.0                 NaN             36             5  \n",
       "4        NaN                 NaN             36             4  "
      ]
     },
     "metadata": {},
     "output_type": "display_data"
    }
   ],
   "source": [
    "# Display all columns (pandas will collapse some columns if we don't set this option)\n",
    "pd.set_option('display.max_columns', None)\n",
    "\n",
    "# Display the last five rows of the Aaron Judge file\n",
    "display(judge.head())"
   ]
  },
  {
   "cell_type": "markdown",
   "metadata": {
    "dc": {
     "key": "18"
    },
    "deletable": false,
    "editable": false,
    "run_control": {
     "frozen": true
    },
    "tags": [
     "context"
    ]
   },
   "source": [
    "## 3. Aaron Judge and Giancarlo Stanton, prolific sluggers\n",
    "<p><img style=\"float: left;margin:5px 20px 5px 1px\" src=\"https://s3.amazonaws.com/assets.datacamp.com/production/project_250/img/stanton_wide.jpg\"></p>\n",
    "<p>This is Giancarlo Stanton. He is also a very large human being, standing 6 feet 6 inches tall and weighing 245 pounds. Despite not wearing the same jersey as Judge in the pictures provided, in 2018 they will be teammates on the New York Yankees. They are similar in a lot of ways, one being that they hit a lot of home runs. Stanton and Judge led baseball in home runs in 2017, with <a href=\"https://www.youtube.com/watch?v=tJ6Bz5P6dg4\">59</a> and <a href=\"https://www.youtube.com/watch?v=Gw3pFHMM9fk\">52</a>, respectively. These are exceptional totals - the player in third \"only\" had 45 home runs.</p>\n",
    "<p>Stanton and Judge are also different in many ways. One is <a href=\"http://m.mlb.com/glossary/statcast/batted-ball-event\">batted ball events</a>, which is any batted ball that produces a result. This includes outs, hits, and errors. Next, you'll find the counts of batted ball events for each player in 2017. The frequencies of other events are quite different.</p>"
   ]
  },
  {
   "cell_type": "code",
   "execution_count": 24,
   "metadata": {
    "dc": {
     "key": "18"
    },
    "tags": [
     "sample_code"
    ]
   },
   "outputs": [
    {
     "name": "stdout",
     "output_type": "stream",
     "text": [
      "Aaron Judge batted ball event totals, 2017:\n",
      "0       strikeout\n",
      "1             NaN\n",
      "2             NaN\n",
      "3            walk\n",
      "4             NaN\n",
      "          ...    \n",
      "3023          NaN\n",
      "3024    field_out\n",
      "3025          NaN\n",
      "3026          NaN\n",
      "3027       double\n",
      "Name: events, Length: 3028, dtype: object\n",
      "\n",
      "Giancarlo Stanton batted ball event totals, 2017:\n",
      "0       strikeout\n",
      "1             NaN\n",
      "2             NaN\n",
      "3             NaN\n",
      "4       field_out\n",
      "          ...    \n",
      "2780       double\n",
      "2781    field_out\n",
      "2782          NaN\n",
      "2783          NaN\n",
      "2784          NaN\n",
      "Name: events, Length: 2785, dtype: object\n"
     ]
    }
   ],
   "source": [
    "# All of Aaron Judge's batted ball events in 2017\n",
    "judge_events_2017 = judge[judge['game_year']==2017]['events']\n",
    "print(\"Aaron Judge batted ball event totals, 2017:\")\n",
    "print(judge_events_2017)\n",
    "\n",
    "# All of Giancarlo Stanton's batted ball events in 2017\n",
    "stanton_events_2017 = stanton[stanton['game_year']==2017]['events']\n",
    "print(\"\\nGiancarlo Stanton batted ball event totals, 2017:\")\n",
    "print(stanton_events_2017)"
   ]
  },
  {
   "cell_type": "markdown",
   "metadata": {
    "dc": {
     "key": "25"
    },
    "deletable": false,
    "editable": false,
    "run_control": {
     "frozen": true
    },
    "tags": [
     "context"
    ]
   },
   "source": [
    "## 4. Analyzing home runs with Statcast data\n",
    "<p>So Judge walks and strikes out more than Stanton. Stanton flies out more than Judge. But let's get into their hitting profiles in more detail. Two of the most groundbreaking Statcast metrics are launch angle and exit velocity:</p>\n",
    "<ul>\n",
    "<li><a href=\"http://m.mlb.com/glossary/statcast/launch-angle\">Launch angle</a>: the vertical angle at which the ball leaves a player's bat</li>\n",
    "<li><a href=\"http://m.mlb.com/glossary/statcast/exit-velocity\">Exit velocity</a>: the speed of the baseball as it comes off the bat</li>\n",
    "</ul>\n",
    "<p>This new data has changed the way teams value both hitters and pitchers. Why? As per the <a href=\"https://www.washingtonpost.com/graphics/sports/mlb-launch-angles-story/?utm_term=.8d088d31f098\">Washington Post</a>:</p>\n",
    "<blockquote>\n",
    "  <p>Balls hit with a high launch angle are more likely to result in a hit. Hit fast enough and at the right angle, they become home runs.</p>\n",
    "</blockquote>\n",
    "<p>Let's look at exit velocity vs. launch angle and let's focus on home runs only (2015-2017). The first two plots show data points. The second two show smoothed contours to represent density.</p>"
   ]
  },
  {
   "cell_type": "code",
   "execution_count": 25,
   "metadata": {
    "dc": {
     "key": "25"
    },
    "tags": [
     "sample_code"
    ]
   },
   "outputs": [
    {
     "data": {
      "image/png": "[encoded data removed]",
      "text/plain": [
       "<Figure size 1080x720 with 2 Axes>"
      ]
     },
     "metadata": {
      "needs_background": "light"
     },
     "output_type": "display_data"
    },
    {
     "data": {
      "image/png": "[encoded data removed]",
      "text/plain": [
       "<Figure size 1080x720 with 2 Axes>"
      ]
     },
     "metadata": {
      "needs_background": "light"
     },
     "output_type": "display_data"
    }
   ],
   "source": [
    "# Filter to include home runs only\n",
    "judge_hr = judge[judge['events']=='home_run']\n",
    "stanton_hr = stanton[stanton['events']=='home_run']\n",
    "\n",
    "# Create a figure with two scatter plots of launch speed vs. launch angle, one for each player's home runs\n",
    "fig1, axs1 = plt.subplots(ncols=2, sharex=True, sharey=True)\n",
    "sns.regplot(x='launch_speed', y='launch_angle', fit_reg=False, color='tab:blue', data=judge_hr, ax=axs1[0]).set_title('Aaron Judge\\nHome Runs, 2015-2017')\n",
    "sns.regplot(x='launch_speed', y='launch_angle', fit_reg=False, color='tab:blue', data=stanton_hr, ax=axs1[1]).set_title('Giancarlo Stanton\\nHome Runs, 2015-2017')\n",
    "\n",
    "# Create a figure with two KDE plots of launch speed vs. launch angle, one for each player's home runs\n",
    "fig2, axs2 = plt.subplots(ncols=2, sharex=True, sharey=True)\n",
    "sns.kdeplot(judge_hr['launch_speed'], judge_hr['launch_angle'], cmap=\"Blues\", shade=True, shade_lowest=False, ax=axs2[0]).set_title('Aaron Judge\\nHome Runs, 2015-2017')\n",
    "sns.kdeplot(stanton_hr['launch_speed'], stanton_hr['launch_angle'], cmap=\"Blues\", shade=True, shade_lowest=False, ax=axs2[1]).set_title('Giancarlo Stanton\\nHome Runs, 2015-2017')\n",
    "\n",
    "plt.show()"
   ]
  },
  {
   "cell_type": "markdown",
   "metadata": {
    "dc": {
     "key": "32"
    },
    "deletable": false,
    "editable": false,
    "run_control": {
     "frozen": true
    },
    "tags": [
     "context"
    ]
   },
   "source": [
    "## 5. Home runs by pitch velocity\n",
    "<p>It appears that Stanton hits his home runs slightly lower and slightly harder than Judge, though this needs to be taken with a grain of salt given the small sample size of home runs.</p>\n",
    "<p>Not only does Statcast measure the velocity of the ball coming off of the bat, it measures the velocity of the ball coming out of the pitcher's hand and begins its journey towards the plate. We can use this data to compare Stanton and Judge's home runs in terms of pitch velocity. Next you'll find box plots displaying the five-number summaries for each player: minimum, first quartile, median, third quartile, and maximum.</p>"
   ]
  },
  {
   "cell_type": "code",
   "execution_count": 26,
   "metadata": {
    "dc": {
     "key": "32"
    },
    "tags": [
     "sample_code"
    ]
   },
   "outputs": [
    {
     "data": {
      "image/png": "[encoded data removed]",
      "text/plain": [
       "<Figure size 1080x720 with 1 Axes>"
      ]
     },
     "metadata": {
      "needs_background": "light"
     },
     "output_type": "display_data"
    }
   ],
   "source": [
    "# Combine the Judge and Stanton home run DataFrames for easy boxplot plotting\n",
    "judge_stanton_hr = pd.concat([judge_hr, stanton_hr])\n",
    "\n",
    "# Create a boxplot that describes the pitch velocity of each player's home runs\n",
    "ax = sns.boxplot(x='player_name', y='release_speed', data=judge_stanton_hr).set_title('Home Runs, 2015-2017')\n",
    "\n",
    "plt.show()"
   ]
  },
  {
   "cell_type": "markdown",
   "metadata": {
    "dc": {
     "key": "39"
    },
    "deletable": false,
    "editable": false,
    "run_control": {
     "frozen": true
    },
    "tags": [
     "context"
    ]
   },
   "source": [
    "## 6. Home runs by pitch location (I)\n",
    "<p>So Judge appears to hit his home runs off of faster pitches than Stanton. We might call Judge a fastball hitter. Stanton appears agnostic to pitch speed and likely pitch movement since slower pitches (e.g. curveballs, sliders, and changeups) tend to have more break. Statcast <em>does</em> track pitch movement and type but let's move on to something else: <strong>pitch location</strong>. Statcast tracks the zone the pitch is in when it crosses the plate. The zone numbering looks like this (from the catcher's point of view):</p>\n",
    "<p><img style=\"margin:5px 20px 5px 1px; width:20%;\" src=\"https://s3.amazonaws.com/assets.datacamp.com/production/project_250/img/zone.png\"></p>\n",
    "<p>We can plot this using a 2D histogram. For simplicity, let's only look at strikes, which gives us a 9x9 grid. We can view each zone as coordinates on a 2D plot, the bottom left corner being (1,1) and the top right corner being (3,3). Let's set up a function to assign x-coordinates to each pitch.</p>"
   ]
  },
  {
   "cell_type": "code",
   "execution_count": 27,
   "metadata": {
    "dc": {
     "key": "39"
    },
    "tags": [
     "sample_code"
    ]
   },
   "outputs": [],
   "source": [
    "def assign_x_coord(row):\n",
    "    \"\"\"\n",
    "    Assigns an x-coordinate to Statcast's strike zone numbers. Zones 11, 12, 13,\n",
    "    and 14 are ignored for plotting simplicity.\n",
    "    \"\"\"\n",
    "    # Left third of strike zone\n",
    "    if row.zone in [1, 4, 7]:\n",
    "        return 1\n",
    "    # Middle third of strike zone\n",
    "    if row.zone in [2, 5, 8]:\n",
    "        return 2\n",
    "    # Right third of strike zone\n",
    "    if row.zone in [3, 6, 9]:\n",
    "        return 3"
   ]
  },
  {
   "cell_type": "markdown",
   "metadata": {
    "dc": {
     "key": "46"
    },
    "deletable": false,
    "editable": false,
    "run_control": {
     "frozen": true
    },
    "tags": [
     "context"
    ]
   },
   "source": [
    "## 7. Home runs by pitch location (II)\n",
    "<p>And let's do the same but for y-coordinates.</p>"
   ]
  },
  {
   "cell_type": "code",
   "execution_count": 28,
   "metadata": {
    "dc": {
     "key": "46"
    },
    "tags": [
     "sample_code"
    ]
   },
   "outputs": [],
   "source": [
    "def assign_y_coord(row):\n",
    "    \"\"\"\n",
    "    Assigns a y-coordinate to Statcast's strike zone numbers. Zones 11, 12, 13,\n",
    "    and 14 are ignored for plotting simplicity.\n",
    "    \"\"\"\n",
    "    # Upper third of strike zone\n",
    "    if row.zone in [1, 2, 3]:\n",
    "        return 3\n",
    "    # Middle third of strike zone\n",
    "    if row.zone in [4, 5, 6]:\n",
    "        return 2\n",
    "    # Lower third of strike zone\n",
    "    if row.zone in [7, 8, 9]:\n",
    "        return 1"
   ]
  },
  {
   "cell_type": "markdown",
   "metadata": {
    "dc": {
     "key": "53"
    },
    "deletable": false,
    "editable": false,
    "run_control": {
     "frozen": true
    },
    "tags": [
     "context"
    ]
   },
   "source": [
    "## 8. Aaron Judge's home run zone\n",
    "<p>Now we can apply the functions we've created then construct our 2D histograms. First, for Aaron Judge (again, for pitches in the strike zone that resulted in home runs).</p>"
   ]
  },
  {
   "cell_type": "code",
   "execution_count": 29,
   "metadata": {
    "dc": {
     "key": "53"
    },
    "tags": [
     "sample_code"
    ]
   },
   "outputs": [
    {
     "data": {
      "image/png": "[encoded data removed]",
      "text/plain": [
       "<Figure size 1080x720 with 2 Axes>"
      ]
     },
     "metadata": {
      "needs_background": "light"
     },
     "output_type": "display_data"
    }
   ],
   "source": [
    "# Zones 11, 12, 13, and 14 are to be ignored for plotting simplicity\n",
    "judge_strike_hr = judge_hr.copy().loc[judge_hr.zone <= 9]\n",
    "\n",
    "# Assign Cartesian coordinates to pitches in the strike zone for Judge home runs\n",
    "judge_strike_hr['zone_x'] = judge_strike_hr.apply(assign_x_coord, axis=1)\n",
    "judge_strike_hr['zone_y'] = judge_strike_hr.apply(assign_y_coord, axis=1)\n",
    "\n",
    "# Plot Judge's home run zone as a 2D histogram with a colorbar\n",
    "plt.hist2d(judge_strike_hr['zone_x'], judge_strike_hr['zone_y'], bins = 3, cmap='Blues')\n",
    "plt.title('Aaron Judge Home Runs on\\n Pitches in the Strike Zone, 2015-2017')\n",
    "plt.gca().get_xaxis().set_visible(False)\n",
    "plt.gca().get_yaxis().set_visible(False)\n",
    "cb = plt.colorbar()\n",
    "cb.set_label('Counts in Bin')"
   ]
  },
  {
   "cell_type": "markdown",
   "metadata": {
    "dc": {
     "key": "60"
    },
    "deletable": false,
    "editable": false,
    "run_control": {
     "frozen": true
    },
    "tags": [
     "context"
    ]
   },
   "source": [
    "## 9. Giancarlo Stanton's home run zone\n",
    "<p>And now for Giancarlo Stanton.</p>"
   ]
  },
  {
   "cell_type": "code",
   "execution_count": 30,
   "metadata": {
    "dc": {
     "key": "60"
    },
    "tags": [
     "sample_code"
    ]
   },
   "outputs": [
    {
     "data": {
      "image/png": "[encoded data removed]",
      "text/plain": [
       "<Figure size 1080x720 with 2 Axes>"
      ]
     },
     "metadata": {
      "needs_background": "light"
     },
     "output_type": "display_data"
    }
   ],
   "source": [
    "# Zones 11, 12, 13, and 14 are to be ignored for plotting simplicity\n",
    "stanton_strike_hr = stanton_hr.copy().loc[stanton_hr.zone <= 9]\n",
    "\n",
    "# Assign Cartesian coordinates to pitches in the strike zone for Stanton home runs\n",
    "stanton_strike_hr['zone_x'] = stanton_strike_hr.apply(assign_x_coord, axis=1)\n",
    "stanton_strike_hr['zone_y'] = stanton_strike_hr.apply(assign_y_coord, axis=1)\n",
    "\n",
    "# Plot Stanton's home run zone as a 2D histogram with a colorbar\n",
    "plt.hist2d(stanton_strike_hr['zone_x'], stanton_strike_hr['zone_y'], bins = 3, cmap='Blues')\n",
    "plt.title('Giancarlo Stanton Home Runs on\\n Pitches in the Strike Zone, 2015-2017')\n",
    "plt.gca().get_xaxis().set_visible(False)\n",
    "plt.gca().get_yaxis().set_visible(False)\n",
    "cb = plt.colorbar()\n",
    "cb.set_label('Counts in Bin')"
   ]
  },
  {
   "cell_type": "markdown",
   "metadata": {
    "dc": {
     "key": "67"
    },
    "deletable": false,
    "editable": false,
    "run_control": {
     "frozen": true
    },
    "tags": [
     "context"
    ]
   },
   "source": [
    "## 10. Should opposing pitchers be scared?\n",
    "<p>A few takeaways:</p>\n",
    "<ul>\n",
    "<li>Stanton does not hit many home runs on pitches in the upper third of the strike zone.</li>\n",
    "<li>Like pretty much every hitter ever, both players love pitches in the horizontal and vertical middle of the plate.</li>\n",
    "<li>Judge's least favorite home run pitch appears to be high-away while Stanton's appears to be low-away.</li>\n",
    "<li>If we were to describe Stanton's home run zone, it'd be middle-inside. Judge's home run zone is much more spread out.</li>\n",
    "</ul>\n",
    "<p>The grand takeaway from this whole exercise: Aaron Judge and Giancarlo Stanton are not identical despite their superficial similarities. In terms of home runs, their launch profiles, as well as their pitch speed and location preferences, are different.</p>\n",
    "<p>Should opposing pitchers still be scared?</p>"
   ]
  },
  {
   "cell_type": "code",
   "execution_count": 31,
   "metadata": {
    "dc": {
     "key": "67"
    },
    "tags": [
     "sample_code"
    ]
   },
   "outputs": [],
   "source": [
    "# Should opposing pitchers be wary of Aaron Judge and Giancarlo Stanton\n",
    "should_pitchers_be_scared = ..."
   ]
  }
 ],
 "metadata": {
  "kernelspec": {
   "display_name": "Python 3",
   "language": "python",
   "name": "python3"
  },
  "language_info": {
   "codemirror_mode": {
    "name": "ipython",
    "version": 3
   },
   "file_extension": ".py",
   "mimetype": "text/x-python",
   "name": "python",
   "nbconvert_exporter": "python",
   "pygments_lexer": "ipython3",
   "version": "3.7.8"
  },
  "toc": {
   "base_numbering": 1,
   "nav_menu": {},
   "number_sections": true,
   "sideBar": true,
   "skip_h1_title": false,
   "title_cell": "Table of Contents",
   "title_sidebar": "Contents",
   "toc_cell": false,
   "toc_position": {},
   "toc_section_display": true,
   "toc_window_display": false
  }
 },
 "nbformat": 4,
 "nbformat_minor": 2
}
